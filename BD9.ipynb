{
 "cells": [
  {
   "cell_type": "code",
   "execution_count": 84,
   "metadata": {},
   "outputs": [
    {
     "name": "stdout",
     "output_type": "stream",
     "text": [
      "1 - Добавление\n",
      "2 - Получение\n",
      "3 - Удаление\n"
     ]
    },
    {
     "name": "stdin",
     "output_type": "stream",
     "text": [
      ">  2\n"
     ]
    },
    {
     "name": "stdout",
     "output_type": "stream",
     "text": [
      "вфывф   1  adsas  dsa das das ds\n"
     ]
    }
   ],
   "source": [
    "#БД позаимствована у Егора Ишутина\n",
    "import sqlite3 as sql\n",
    "\n",
    "#Создаем локальную базу данных\n",
    "print(\"1 - Добавление\\n2 - Получение\\n3 - Удаление\")\n",
    "choice = int(input(\"> \"))\n",
    "conn = sql.connect('AUstudents.sql')\n",
    "\n",
    "with conn:\n",
    "    cur = conn.cursor()                          #Оставляю тип данных по умолчанию, потому что зачем его менять?\n",
    "    cur.executescript(\"create table if not exists'gruppa_101' ('surname', 'name', 'subject', 'offset','date')\")\n",
    "    #Создаем таблицу в базе данных\n",
    "\n",
    "    if choice == 1:\n",
    "        surname = input(\"Surname?\\n \")       #!проблема появляется здесь, т.к. сюда можно ввести кусок кода sql!\n",
    "        name = input(\"Name?\\n \")\n",
    "        subject = input(\"Subject?\\n \")    #1-Вводим данные одного ученика по одному предмету\n",
    "        offset = input (\"Offset?(True or False)\\n \")\n",
    "        date = input(\"Date of the offset?\\n \")\n",
    "        cur.executescript(f\"insert into 'gruppa_101' values ('{surname}', '{name}', '{subject}','{offset}', '{date}')\")\n",
    "    elif choice == 2:\n",
    "        cur.execute(\"select * from 'gruppa_101' order by surname\")\n",
    "        rows = cur.fetchall()   #2-Выводим данные таблицы, отсортированные по фамилии (по алфавиту)\n",
    "        for row in rows:\n",
    "            print(row[0], row[1], row[2], row[3], row[4])\n",
    "    elif choice == 3:\n",
    "        cur.executescript(\"delete from gruppa_101\")\n",
    "        print(\"Вы очистили все данные в таблице\")   #3-осуществить возможность с консоли вводить, что удалять, у меня не получилось\n",
    "    else:\n",
    "        print(\"Вы ошиблись\")\n",
    "\n",
    "    conn.commit()\n",
    "    cur.close()\n",
    "    \n",
    " #Можно написать: \"); delete from gruppa_101;--  и тогда все данные таблицы удалятся.\n",
    "#Избежать подобных инъекций можно, например, вводя дополнительную функцию, которая будет что-то делать с ключевыми символами кода sql"
   ]
  },
  {
   "cell_type": "code",
   "execution_count": 1,
   "metadata": {},
   "outputs": [
    {
     "name": "stdout",
     "output_type": "stream",
     "text": [
      "1 - Добавление\n",
      "2 - Получение\n",
      "3 - Удаление\n"
     ]
    },
    {
     "name": "stdin",
     "output_type": "stream",
     "text": [
      ">  2\n"
     ]
    },
    {
     "name": "stdout",
     "output_type": "stream",
     "text": [
      "вфывф   1  adsas  dsa das das ds\n"
     ]
    }
   ],
   "source": [
    "#Здесь я продемонстрирую пример такой функции:\n",
    "\n",
    "import sqlite3 as sql\n",
    "\n",
    "#Создаем локальную базу данных\n",
    "print(\"1 - Добавление\\n2 - Получение\\n3 - Удаление\")\n",
    "choice = int(input(\"> \"))\n",
    "conn = sql.connect('AUstudents.sql')\n",
    "\n",
    "def check_string (s):\n",
    "    arr = []\n",
    "    for i in range(len(s)):\n",
    "        arr.append(s[i])\n",
    "    for i in range(len(s)):\n",
    "        if arr[i] == '\"' or arr[i] ==\"/\" or arr[i] ==\";\" or arr[i] ==\"'\" or arr[i] ==\"-\":\n",
    "            arr[i] = \"\"\n",
    "    string = \"\"\n",
    "    for i in range(len(s)):\n",
    "        string += arr[i]\n",
    "    return string\n",
    "\n",
    "with conn:\n",
    "    cur = conn.cursor()                          #Оставляю тип данных по умолчанию, потому что зачем его менять?\n",
    "    cur.executescript(\"create table if not exists'gruppa_101' ('surname', 'name', 'subject', 'offset','date')\")\n",
    "    #Создаем таблицу в базе данных\n",
    "\n",
    "    if choice == 1:\n",
    "        surname = check_string(input(\"Surname?\\n \"))\n",
    "        name = check_string(input(\"Name?\\n \"))\n",
    "        subject = check_string(input(\"Subject?\\n \"))    #1-Вводим данные одного ученика по одному предмету\n",
    "        offset = check_string(input (\"Offset?(True or False)\\n \"))\n",
    "        date = check_string(input(\"Date of the offset?\\n \"))\n",
    "        cur.executescript(f\"insert into 'gruppa_101' values ('{surname}', '{name}', '{subject}','{offset}', '{date}')\")\n",
    "    elif choice == 2:\n",
    "        cur.execute(\"select * from 'gruppa_101' order by surname\")\n",
    "        rows = cur.fetchall()   #2-Выводим данные таблицы, отсортированные по фамилии (по алфавиту)\n",
    "        for row in rows:\n",
    "            print(row[0], row[1], row[2], row[3], row[4])\n",
    "    elif choice == 3:\n",
    "        cur.executescript(\"delete from gruppa_101\")\n",
    "        print(\"Вы очистили все данные в таблице\")   #3-осуществить возможность с консоли вводить, что удалять, у меня не получилось\n",
    "    else:\n",
    "        print(\"Вы ошиблись\")\n",
    "\n",
    "    conn.commit()\n",
    "    cur.close()\n",
    "\n",
    "#check_string поступает немного радикально, в том смысле, что просто удаляет опасные символы, без которых невозможно выполнить операцию.\n",
    "#Можно сделать так, чтобы функция заменяла опасные символы на какие-нибудь другие."
   ]
  },
  {
   "cell_type": "code",
   "execution_count": null,
   "metadata": {},
   "outputs": [],
   "source": []
  }
 ],
 "metadata": {
  "kernelspec": {
   "display_name": "Python 3",
   "language": "python",
   "name": "python3"
  },
  "language_info": {
   "codemirror_mode": {
    "name": "ipython",
    "version": 3
   },
   "file_extension": ".py",
   "mimetype": "text/x-python",
   "name": "python",
   "nbconvert_exporter": "python",
   "pygments_lexer": "ipython3",
   "version": "3.8.2"
  }
 },
 "nbformat": 4,
 "nbformat_minor": 4
}
