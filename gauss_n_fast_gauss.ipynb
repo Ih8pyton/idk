{
 "cells": [
  {
   "cell_type": "code",
   "execution_count": 3,
   "metadata": {},
   "outputs": [
    {
     "name": "stdin",
     "output_type": "stream",
     "text": [
      "Размер матрицы уравнений?  3\n"
     ]
    },
    {
     "name": "stdout",
     "output_type": "stream",
     "text": [
      "Заполните через пробел 1 строчку расширенной матрицы\n"
     ]
    },
    {
     "name": "stdin",
     "output_type": "stream",
     "text": [
      " 1 2 3 4\n"
     ]
    },
    {
     "name": "stdout",
     "output_type": "stream",
     "text": [
      "Заполните через пробел 2 строчку расширенной матрицы\n"
     ]
    },
    {
     "name": "stdin",
     "output_type": "stream",
     "text": [
      " 3 2 4 5\n"
     ]
    },
    {
     "name": "stdout",
     "output_type": "stream",
     "text": [
      "Заполните через пробел 3 строчку расширенной матрицы\n"
     ]
    },
    {
     "name": "stdin",
     "output_type": "stream",
     "text": [
      " 1 6 5 2\n",
      "Размер матрицы уравнений?  3\n"
     ]
    },
    {
     "name": "stdout",
     "output_type": "stream",
     "text": [
      "Заполните через пробел 1 строчку расширенной матрицы\n"
     ]
    },
    {
     "name": "stdin",
     "output_type": "stream",
     "text": [
      " 1 2 3 4\n"
     ]
    },
    {
     "name": "stdout",
     "output_type": "stream",
     "text": [
      "Заполните через пробел 2 строчку расширенной матрицы\n"
     ]
    },
    {
     "name": "stdin",
     "output_type": "stream",
     "text": [
      " 3 2 4 5\n"
     ]
    },
    {
     "name": "stdout",
     "output_type": "stream",
     "text": [
      "Заполните через пробел 3 строчку расширенной матрицы\n"
     ]
    },
    {
     "name": "stdin",
     "output_type": "stream",
     "text": [
      " 1 6 5 2\n"
     ]
    },
    {
     "name": "stdout",
     "output_type": "stream",
     "text": [
      "82.4 µs ± 1.74 µs per loop (mean ± std. dev. of 7 runs, 10000 loops each)\n",
      "The slowest run took 4.67 times longer than the fastest. This could mean that an intermediate result is being cached.\n",
      "7 µs ± 5.36 µs per loop (mean ± std. dev. of 7 runs, 1 loop each)\n"
     ]
    }
   ],
   "source": [
    "import numpy as np\n",
    "from numba import njit\n",
    "import timeit\n",
    "\n",
    "def gauss(a):\n",
    "    n = len(a)\n",
    "    \n",
    "    for k in range(n):\n",
    "            for i in range(k+1, n):\n",
    "                    a[k] /= a[k][k]\n",
    "                    a[i] -= a[k]*(a[i][k])\n",
    "    a[n-1] /= a[n-1][n-1]\n",
    "\n",
    "    for i in range(n):\n",
    "            for j in range(i+1, n):\n",
    "                    a[i] -= a[j]*a[i][j]\n",
    "\n",
    "    a2 = []\n",
    "    for i in range(n):\n",
    "        a2.append(a[i][n])\n",
    "\n",
    "    return a2\n",
    "\n",
    "@njit\n",
    "def fast_gauss(a):\n",
    "    n = len(a)\n",
    "    \n",
    "    for k in range(n):\n",
    "            for i in range(k+1, n):\n",
    "                    a[k] /= a[k][k]\n",
    "                    a[i] -= a[k]*(a[i][k])\n",
    "    a[n-1] /= a[n-1][n-1]\n",
    "\n",
    "    for i in range(n):\n",
    "            for j in range(i+1, n):\n",
    "                    a[i] -= a[j]*a[i][j]\n",
    "\n",
    "    a2 = []\n",
    "    for i in range(n):\n",
    "        a2.append(a[i][n])\n",
    "\n",
    "    return a2\n",
    "\n",
    "n = int(input('Размер матрицы уравнений? '))\n",
    "\n",
    "a = np.zeros(n * (n+1)).reshape(n, n+1)\n",
    "\n",
    "for i in range(n):\n",
    "        print(\"Заполните через пробел\", i+1, \"строчку расширенной матрицы\")\n",
    "        a[i] = input().split(' ')\n",
    "        for j in range(n+1):\n",
    "                a[i][j] = float(a[i][j])\n",
    "\n",
    "\n",
    "n = int(input('Размер матрицы уравнений? '))\n",
    "\n",
    "a = np.zeros(n * (n+1)).reshape(n, n+1)\n",
    "\n",
    "for i in range(n):\n",
    "        print(\"Заполните через пробел\", i+1, \"строчку расширенной матрицы\")\n",
    "        a[i] = input().split(' ')\n",
    "        for j in range(n+1):\n",
    "                a[i][j] = float(a[i][j])\n",
    "\n",
    "%timeit gauss(a)\n",
    "%timeit fast_gauss(a)"
   ]
  },
  {
   "cell_type": "code",
   "execution_count": null,
   "metadata": {},
   "outputs": [],
   "source": []
  }
 ],
 "metadata": {
  "kernelspec": {
   "display_name": "Python 3",
   "language": "python",
   "name": "python3"
  },
  "language_info": {
   "codemirror_mode": {
    "name": "ipython",
    "version": 3
   },
   "file_extension": ".py",
   "mimetype": "text/x-python",
   "name": "python",
   "nbconvert_exporter": "python",
   "pygments_lexer": "ipython3",
   "version": "3.8.2"
  }
 },
 "nbformat": 4,
 "nbformat_minor": 4
}
